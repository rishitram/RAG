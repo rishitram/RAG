{
 "cells": [
  {
   "cell_type": "code",
   "execution_count": 16,
   "id": "1d818dca-f8cc-4ada-b626-d750c00436d0",
   "metadata": {},
   "outputs": [],
   "source": [
    "%%capture --no-stderr\n",
    "!pip install langchain-ollama\n",
    "!pip install langchain-nomic \"nomic[local]\"\n",
    "!pip install langchain\n",
    "!pip install tiktoken scikit-learn\n",
    "!pip install --quiet -U langchain langchain_community tiktoken langchain-nomic \"nomic[local]\" langchain-ollama scikit-learn langgraph tavily-python bs4"
   ]
  },
  {
   "cell_type": "code",
   "execution_count": 17,
   "id": "d8bb2915-884e-41c9-a0f5-911525e1a31b",
   "metadata": {},
   "outputs": [],
   "source": [
    "\n",
    "\n"
   ]
  },
  {
   "cell_type": "code",
   "execution_count": 32,
   "id": "87af3b28-d85b-44ff-be03-6c753482c100",
   "metadata": {},
   "outputs": [],
   "source": [
    "from langchain_ollama import ChatOllama\n",
    "model_id = \"llama3.2:1b\"\n",
    "llm = ChatOllama(model=model_id, temperature=0)\n",
    "\n",
    "### LLM\n"
   ]
  },
  {
   "cell_type": "code",
   "execution_count": 48,
   "id": "ec872d42-8822-4a97-82a0-efa7510c571e",
   "metadata": {},
   "outputs": [
    {
     "name": "stderr",
     "output_type": "stream",
     "text": [
      "Embedding texts: 100%|██████████| 30/30 [00:43<00:00,  1.44s/inputs]\n"
     ]
    }
   ],
   "source": [
    "from langchain.text_splitter import RecursiveCharacterTextSplitter\n",
    "from langchain_community.document_loaders import WebBaseLoader\n",
    "from langchain_community.vectorstores import SKLearnVectorStore\n",
    "from langchain_nomic.embeddings import NomicEmbeddings\n",
    "from langchain_ollama import ChatOllama\n",
    "\n",
    "urls = [\n",
    "    \"https://www.wcpss.net/site/default.aspx?PageType=3&DomainID=15369&ModuleInstanceID=82538&ViewID=6446EE88-D30C-497E-9316-3F8874B3E108&RenderLoc=0&FlexDataID=326169&PageID=39173\",\n",
    "    \"https://www.wcpss.net/site/default.aspx?PageType=3&DomainID=15369&ModuleInstanceID=82538&ViewID=6446EE88-D30C-497E-9316-3F8874B3E108&RenderLoc=0&FlexDataID=325688&PageID=39173\",\n",
    "    \"https://www.wcpss.net/site/default.aspx?PageType=3&DomainID=15369&ModuleInstanceID=82538&ViewID=6446EE88-D30C-497E-9316-3F8874B3E108&RenderLoc=0&FlexDataID=325422&PageID=39173\",\n",
    "    \"https://www.wcpss.net/site/default.aspx?PageType=3&DomainID=15369&ModuleInstanceID=82538&ViewID=6446EE88-D30C-497E-9316-3F8874B3E108&RenderLoc=0&FlexDataID=325129&PageID=39173\"\n",
    "]\n",
    "\n",
    "docs = [WebBaseLoader(url).load() for url in urls]\n",
    "docs_list = [item for sublist in docs for item in sublist]\n",
    "\n",
    "text_splitter = RecursiveCharacterTextSplitter.from_tiktoken_encoder(\n",
    "    chunk_size=1000, chunk_overlap=200\n",
    ")\n",
    "doc_splits = text_splitter.split_documents(docs_list)\n",
    "\n",
    "vectorstore = SKLearnVectorStore.from_documents(\n",
    "    documents=doc_splits,\n",
    "    embedding=NomicEmbeddings(model=\"nomic-embed-text-v1.5\", inference_mode=\"local\"),\n",
    ")\n",
    "\n",
    "retriever = vectorstore.as_retriever(k=3)\n",
    "\n"
   ]
  },
  {
   "cell_type": "code",
   "execution_count": 49,
   "id": "057d39f8-f3c2-4939-9320-d28e5200e3d4",
   "metadata": {},
   "outputs": [
    {
     "name": "stdout",
     "output_type": "stream",
     "text": [
      "model='llama3.2:1b' temperature=0.0\n"
     ]
    }
   ],
   "source": [
    "print(model)"
   ]
  },
  {
   "cell_type": "code",
   "execution_count": null,
   "id": "077aacaf-9926-483f-887c-9eca80b30365",
   "metadata": {},
   "outputs": [],
   "source": [
    "model_id = \"llama3.2:1b\"\n",
    "model = ChatOllama(model=model_id, temperature=0)\n",
    "\n",
    "query = \"What is LeBron James 2025 stats?\"\n",
    "\n",
    "retrieved_docs = retriever.get_relevant_documents(query)\n",
    "\n",
    "prompt = f\"Based on the following information, answer the question: {query}\\n\\n\" + \"\\n\".join([doc.page_content for doc in retrieved_docs])\n",
    "\n",
    "response = model.generate(prompt)\n",
    "print(response)"
   ]
  },
  {
   "cell_type": "code",
   "execution_count": 34,
   "id": "4050777e-eeac-4076-8f57-d87e1b8e15e6",
   "metadata": {},
   "outputs": [
    {
     "name": "stdout",
     "output_type": "stream",
     "text": [
      "content=\"I'm not aware of any information about Lebron James' 2025 stats, as my knowledge cutoff is March 1, 2023. However, I can suggest some possible sources where you may be able to find the information you're looking for:\\n\\n* Official NBA website: You can check out LeBron James' official NBA profile on the league's website, which should have his career statistics and other relevant information.\\n* Sports websites: Websites like ESPN, Fox Sports, or CBS Sports often provide up-to-date stats and analysis of NBA players, including Lebron James.\\n* Social media: You can also try checking out LeBron James' social media accounts to see if he has shared any updates about his 2025 stats.\\n\\nIf you're looking for specific stats from a particular season or game, I'd be happy to try and help you find that information.\" additional_kwargs={} response_metadata={'model': 'llama3.2:1b', 'created_at': '2025-02-16T15:40:21.4582317Z', 'done': True, 'done_reason': 'stop', 'total_duration': 7063892200, 'load_duration': 3859727200, 'prompt_eval_count': 55, 'prompt_eval_duration': 380000000, 'eval_count': 174, 'eval_duration': 1071000000, 'message': Message(role='assistant', content='', images=None, tool_calls=None)} id='run-3b5e69e9-5922-42e0-b93a-2ef4225ad0b9-0' usage_metadata={'input_tokens': 55, 'output_tokens': 174, 'total_tokens': 229}\n"
     ]
    }
   ],
   "source": [
    "### Router\n",
    "import json\n",
    "from langchain_core.messages import HumanMessage, SystemMessage\n",
    "\n",
    "# Prompt\n",
    "router_instructions = \"\"\"You are an expert at answering questions from a vectorstore.\n",
    "\n",
    "Use the vectorstore for questions. \"\"\"\n",
    "\n",
    "# Test router\n",
    "test_web_search = llm.invoke(\n",
    "    [SystemMessage(content=router_instructions)]\n",
    "    + [\n",
    "        HumanMessage(\n",
    "            content=\"What is Lebron James 2025 stats?\"\n",
    "        )\n",
    "    ]\n",
    ")\n",
    "\n",
    "print(\n",
    "    test_web_search\n",
    ")"
   ]
  },
  {
   "cell_type": "code",
   "execution_count": 58,
   "id": "ab5fafde-6044-4591-83e9-3b1aab52a487",
   "metadata": {},
   "outputs": [
    {
     "name": "stderr",
     "output_type": "stream",
     "text": [
      "Embedding texts: 100%|██████████| 1/1 [00:00<00:00, 28.77inputs/s]\n"
     ]
    },
    {
     "name": "stdout",
     "output_type": "stream",
     "text": [
      "The Green Level Book Club meets on Tuesdays during Connectivity (register with Ms. Beach) from 1:00-2:00 pm, and also virtually at 6:00-7:00 pm on Fridays.\n"
     ]
    }
   ],
   "source": [
    "### Generate\n",
    "question = \"When does the book club meet\"\n",
    "# Prompt\n",
    "rag_prompt = \"\"\"You are an assistant for question-answering tasks about Green Level High School. \n",
    "\n",
    "Here is the context to use to answer the question:\n",
    "\n",
    "{context} \n",
    "\n",
    "Think carefully about the above context. \n",
    "\n",
    "Now, review the user question:\n",
    "\n",
    "{question}\n",
    "\n",
    "Provide an answer to this questions using only the above context. \n",
    "\n",
    "Use three sentences maximum and keep the answer concise.\n",
    "\n",
    "Answer:\"\"\"\n",
    "\n",
    "\n",
    "# Post-processing\n",
    "def format_docs(docs):\n",
    "    return \"\\n\\n\".join(doc.page_content for doc in docs)\n",
    "\n",
    "\n",
    "# Test\n",
    "docs = retriever.invoke(question)\n",
    "docs_txt = format_docs(docs)\n",
    "rag_prompt_formatted = rag_prompt.format(context=docs_txt, question=question)\n",
    "generation = llm.invoke([HumanMessage(content=rag_prompt_formatted)])\n",
    "print(generation.content)"
   ]
  },
  {
   "cell_type": "code",
   "execution_count": null,
   "id": "34e26633-8665-44b1-af3f-312a8cc05886",
   "metadata": {},
   "outputs": [],
   "source": []
  },
  {
   "cell_type": "code",
   "execution_count": null,
   "id": "a9e89f2e-7271-4fed-93c5-1a23b9df99ae",
   "metadata": {},
   "outputs": [],
   "source": [
    " prompt = \"What is Lebron James 2025 stats\"\n",
    " response = model.invoke(prompt)\n",
    " print(response)"
   ]
  },
  {
   "cell_type": "code",
   "execution_count": null,
   "id": "19bbf40c-4adc-4859-b15c-5e1c5b754c23",
   "metadata": {},
   "outputs": [],
   "source": []
  },
  {
   "cell_type": "code",
   "execution_count": null,
   "id": "1b0a6242-38ee-47ad-a6cd-38bec876d7be",
   "metadata": {},
   "outputs": [],
   "source": []
  }
 ],
 "metadata": {
  "kernelspec": {
   "display_name": "Python [conda env:base] *",
   "language": "python",
   "name": "conda-base-py"
  },
  "language_info": {
   "codemirror_mode": {
    "name": "ipython",
    "version": 3
   },
   "file_extension": ".py",
   "mimetype": "text/x-python",
   "name": "python",
   "nbconvert_exporter": "python",
   "pygments_lexer": "ipython3",
   "version": "3.12.7"
  }
 },
 "nbformat": 4,
 "nbformat_minor": 5
}
